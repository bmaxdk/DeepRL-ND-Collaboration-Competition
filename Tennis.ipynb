{
 "cells": [
  {
   "cell_type": "markdown",
   "metadata": {},
   "source": [
    "# Collaboration and Competition\n",
    "\n",
    "---\n",
    "\n",
    "You are welcome to use this coding environment to train your agent for the project.  Follow the instructions below to get started!\n",
    "\n",
    "### 1. Start the Environment\n",
    "\n",
    "Run the next code cell to install a few packages.  This line will take a few minutes to run!"
   ]
  },
  {
   "cell_type": "code",
   "execution_count": 1,
   "metadata": {},
   "outputs": [],
   "source": [
    "# !pip -q install ./python"
   ]
  },
  {
   "cell_type": "markdown",
   "metadata": {},
   "source": [
    "The environment is already saved in the Workspace and can be accessed at the file path provided below. "
   ]
  },
  {
   "cell_type": "code",
   "execution_count": 2,
   "metadata": {
    "scrolled": true
   },
   "outputs": [
    {
     "name": "stderr",
     "output_type": "stream",
     "text": [
      "INFO:unityagents:\n",
      "'Academy' started successfully!\n",
      "Unity Academy name: Academy\n",
      "        Number of Brains: 1\n",
      "        Number of External Brains : 1\n",
      "        Lesson number : 0\n",
      "        Reset Parameters :\n",
      "\t\t\n",
      "Unity brain name: TennisBrain\n",
      "        Number of Visual Observations (per agent): 0\n",
      "        Vector Observation space type: continuous\n",
      "        Vector Observation space size (per agent): 8\n",
      "        Number of stacked Vector Observation: 3\n",
      "        Vector Action space type: continuous\n",
      "        Vector Action space size (per agent): 2\n",
      "        Vector Action descriptions: , \n"
     ]
    }
   ],
   "source": [
    "from unityagents import UnityEnvironment\n",
    "import numpy as np\n",
    "\n",
    "import random\n",
    "import time  \n",
    "import copy\n",
    "from torch.autograd import Variable\n",
    "from torch import nn\n",
    "from torchviz import make_dot, make_dot_from_trace\n",
    "from collections import namedtuple, deque\n",
    "import torch\n",
    "import torch.nn.functional as F\n",
    "import torch.optim as optim\n",
    "from ddpg_agent import Actor, Critic, Agent\n",
    "import matplotlib.pyplot as plt\n",
    "%matplotlib inline\n",
    "\n",
    "env = UnityEnvironment(file_name=\"data/Tennis_Linux/Tennis.x86\")"
   ]
  },
  {
   "cell_type": "markdown",
   "metadata": {},
   "source": [
    "Environments contain **_brains_** which are responsible for deciding the actions of their associated agents. Here we check for the first brain available, and set it as the default brain we will be controlling from Python."
   ]
  },
  {
   "cell_type": "code",
   "execution_count": 3,
   "metadata": {},
   "outputs": [],
   "source": [
    "# get the default brain\n",
    "brain_name = env.brain_names[0]\n",
    "brain = env.brains[brain_name]"
   ]
  },
  {
   "cell_type": "markdown",
   "metadata": {},
   "source": [
    "### 2. Examine the State and Action Spaces\n",
    "\n",
    "Run the code cell below to print some information about the environment."
   ]
  },
  {
   "cell_type": "code",
   "execution_count": 4,
   "metadata": {},
   "outputs": [
    {
     "name": "stdout",
     "output_type": "stream",
     "text": [
      "Number of agents: 2\n",
      "Size of each action: 2\n",
      "There are 2 agents. Each observes a state with length: 24\n",
      "The state for the first agent looks like: [ 0.          0.          0.          0.          0.          0.\n",
      "  0.          0.          0.          0.          0.          0.\n",
      "  0.          0.          0.          0.         -6.65278625 -1.5\n",
      " -0.          0.          6.83172083  6.         -0.          0.        ]\n"
     ]
    }
   ],
   "source": [
    "# reset the environment\n",
    "env_info = env.reset(train_mode=True)[brain_name]\n",
    "\n",
    "# number of agents \n",
    "num_agents = len(env_info.agents)\n",
    "print('Number of agents:', num_agents)\n",
    "\n",
    "# size of each action\n",
    "action_size = brain.vector_action_space_size\n",
    "print('Size of each action:', action_size)\n",
    "\n",
    "# examine the state space \n",
    "states = env_info.vector_observations\n",
    "state_size = states.shape[1]\n",
    "print('There are {} agents. Each observes a state with length: {}'.format(states.shape[0], state_size))\n",
    "print('The state for the first agent looks like:', states[0])"
   ]
  },
  {
   "cell_type": "markdown",
   "metadata": {},
   "source": [
    "### 3. Take Random Actions in the Environment\n",
    "\n",
    "In the next code cell, you will learn how to use the Python API to control the agent and receive feedback from the environment.\n",
    "\n",
    "Note that **in this coding environment, you will not be able to watch the agents while they are training**, and you should set `train_mode=True` to restart the environment."
   ]
  },
  {
   "cell_type": "code",
   "execution_count": 5,
   "metadata": {},
   "outputs": [
    {
     "name": "stdout",
     "output_type": "stream",
     "text": [
      "Total score (averaged over agents) this episode: -0.004999999888241291\n",
      "Total score (averaged over agents) this episode: -0.004999999888241291\n",
      "Total score (averaged over agents) this episode: -0.004999999888241291\n",
      "Total score (averaged over agents) this episode: -0.004999999888241291\n",
      "Total score (averaged over agents) this episode: -0.004999999888241291\n"
     ]
    }
   ],
   "source": [
    "for i in range(5):                                         # play game for 5 episodes\n",
    "    env_info = env.reset(train_mode=False)[brain_name]     # reset the environment    \n",
    "    states = env_info.vector_observations                  # get the current state (for each agent)\n",
    "    scores = np.zeros(num_agents)                          # initialize the score (for each agent)\n",
    "    while True:\n",
    "        actions = np.random.randn(num_agents, action_size) # select an action (for each agent)\n",
    "        actions = np.clip(actions, -1, 1)                  # all actions between -1 and 1\n",
    "        env_info = env.step(actions)[brain_name]           # send all actions to tne environment\n",
    "        next_states = env_info.vector_observations         # get next state (for each agent)\n",
    "        rewards = env_info.rewards                         # get reward (for each agent)\n",
    "        dones = env_info.local_done                        # see if episode finished\n",
    "        scores += env_info.rewards                         # update the score (for each agent)\n",
    "        states = next_states                               # roll over states to next time step\n",
    "        if np.any(dones):                                  # exit loop if episode finished\n",
    "            break\n",
    "    print('Total score (averaged over agents) this episode: {}'.format(np.mean(scores)))"
   ]
  },
  {
   "cell_type": "markdown",
   "metadata": {},
   "source": [
    "When finished, you can close the environment."
   ]
  },
  {
   "cell_type": "code",
   "execution_count": 6,
   "metadata": {},
   "outputs": [],
   "source": [
    "# env.close()"
   ]
  },
  {
   "cell_type": "markdown",
   "metadata": {},
   "source": [
    "### 4. It's Your Turn!\n",
    "\n",
    "Now it's your turn to train your own agent to solve the environment!  A few **important notes**:\n",
    "- When training the environment, set `train_mode=True`, so that the line for resetting the environment looks like the following:\n",
    "```python\n",
    "env_info = env.reset(train_mode=True)[brain_name]\n",
    "```\n",
    "- To structure your work, you're welcome to work directly in this Jupyter notebook, or you might like to start over with a new file!  You can see the list of files in the workspace by clicking on **_Jupyter_** in the top left corner of the notebook.\n",
    "- In this coding environment, you will not be able to watch the agents while they are training.  However, **_after training the agents_**, you can download the saved model weights to watch the agents on your own machine! "
   ]
  },
  {
   "cell_type": "code",
   "execution_count": 7,
   "metadata": {},
   "outputs": [],
   "source": [
    "# from ddpg_agent import Agent\n",
    "\n"
   ]
  },
  {
   "cell_type": "code",
   "execution_count": 8,
   "metadata": {
    "scrolled": false
   },
   "outputs": [],
   "source": [
    "# actor_model = Actor(state_size, action_size, 1)\n",
    "# x = Variable(torch.randn(1,state_size))\n",
    "# y = actor_model(x)\n",
    "             \n",
    "# make_dot(y, params=dict(list(actor_model.named_parameters())))"
   ]
  },
  {
   "cell_type": "code",
   "execution_count": 9,
   "metadata": {
    "scrolled": true
   },
   "outputs": [],
   "source": [
    "# critic_model = Critic(state_size, action_size, 1)\n",
    "# s = Variable(torch.randn(1,state_size))\n",
    "# a = Variable(torch.randn(1,action_size))\n",
    "# y = critic_model(s,a)\n",
    "             \n",
    "# make_dot(y, params=dict(list(critic_model.named_parameters())))\n"
   ]
  },
  {
   "cell_type": "code",
   "execution_count": null,
   "metadata": {
    "scrolled": true
   },
   "outputs": [],
   "source": []
  },
  {
   "cell_type": "code",
   "execution_count": 10,
   "metadata": {},
   "outputs": [],
   "source": [
    "agents = []\n",
    "for i in range(num_agents):\n",
    "    agents.append(Agent(state_size=state_size, action_size=action_size, random_seed=4))"
   ]
  },
  {
   "cell_type": "code",
   "execution_count": 11,
   "metadata": {},
   "outputs": [],
   "source": [
    "def checkpoint(agents):\n",
    "    for idx, agent in enumerate(agents):\n",
    "        actor_local_name = 'checkpoint_actor_local_' + str(idx) + '.pth'\n",
    "        critic_local_name = 'checkpoint_critic_local_' + str(idx) + '.pth'           \n",
    "        actor_target_name = 'checkpoint_actor_target_' + str(idx) + '.pth'\n",
    "        critic_target_name = 'checkpoint_critic_target_' + str(idx) + '.pth'            \n",
    "        torch.save(agent.actor_local.state_dict(), actor_local_name) \n",
    "        torch.save(agent.critic_local.state_dict(), critic_local_name)             \n",
    "        torch.save(agent.actor_target.state_dict(), actor_target_name) \n",
    "        torch.save(agent.critic_target.state_dict(), critic_target_name)"
   ]
  },
  {
   "cell_type": "code",
   "execution_count": 12,
   "metadata": {
    "scrolled": true
   },
   "outputs": [
    {
     "name": "stdout",
     "output_type": "stream",
     "text": [
      "Episode 100, Total Average Score: 0.01, Max Score: 0.10, Total Time: 27.57second\n",
      "Episode 200, Total Average Score: 0.00, Max Score: 0.10, Total Time: 57.14second\n",
      "Episode 300, Total Average Score: 0.02, Max Score: 0.20, Total Time: 99.71second\n",
      "Episode 400, Total Average Score: 0.04, Max Score: 0.20, Total Time: 145.15second\n",
      "Episode 500, Total Average Score: 0.05, Max Score: 0.20, Total Time: 189.12second\n",
      "Episode 600, Total Average Score: 0.07, Max Score: 0.30, Total Time: 254.22second\n",
      "Episode 700, Total Average Score: 0.09, Max Score: 0.20, Total Time: 333.63second\n",
      "Episode 800, Total Average Score: 0.14, Max Score: 0.50, Total Time: 438.59second\n",
      "Episode 900, Total Average Score: 0.15, Max Score: 0.59, Total Time: 559.79second\n",
      "Episode 1000, Total Average Score: 0.23, Max Score: 1.00, Total Time: 741.33second\n",
      "Episode 1100, Total Average Score: 0.30, Max Score: 1.20, Total Time: 959.42second\n",
      "The Environment has been solved in 1 Episode, with Average Score : 0.51\n"
     ]
    }
   ],
   "source": [
    "import time\n",
    "\n",
    "def maddpg(n_episodes=2500, max_t=1000, print_every=100, num_learn=4, goal_score=0.5):\n",
    "    scores_deque = deque(maxlen=100)                                        # create the score list\n",
    "    all_scores = []                                                         # create the score list to plot\n",
    "    all_avg_score = []                                                      # create the average score list to plot\n",
    "    total_time = 0                                                          # set timer\n",
    "\n",
    "    for i_episode in range(1, n_episodes+1):                                # set episode\n",
    "        env_info = env.reset(train_mode=True)[brain_name]                   # reset the environment\n",
    "        states = env_info.vector_observations                               # get the starting state\n",
    "        scores_agents = np.zeros(num_agents)                                # initialize the agent score with zero\n",
    "        start_time = time.time()                                            # begin train time for every episode\n",
    "\n",
    "        while(True):\n",
    "            actions = np.random.randn(num_agents, action_size)              # initialize the action list\n",
    "\n",
    "            for idx in range(num_agents):\n",
    "                agents[idx].reset()                                         # reset each agent\n",
    "                actions[idx] = agents[idx].act(states[idx])                 # select action for each agent\n",
    "\n",
    "            env_info = env.step(actions)[brain_name]                        # send all actions to tne environment\n",
    "            next_states = env_info.vector_observations                      # get accordingly the next state\n",
    "            rewards = env_info.rewards                                      # get the reward\n",
    "\n",
    "            dones = env_info.local_done                                     # see if episode finished\n",
    "\n",
    "            for idx in range(num_agents):\n",
    "                agents[idx].step(states, actions, rewards, next_states, dones, i_episode, num_learn) # send s, a, r, ns, dones, i_episode, num_learn to each agent\n",
    "\n",
    "            scores_agents += rewards                                        # update the score (for each agent)\n",
    "            states = next_states                                            # roll over states to next time step\n",
    "\n",
    "            if np.any(dones):\n",
    "                break\n",
    "\n",
    "        episode_score = np.max(scores_agents)                               # get the max score achieve over all the agents\n",
    "        all_scores.append(episode_score)                                    # collect the max score into the list\n",
    "        scores_deque.append(episode_score)                                  # 100 limit scores\n",
    "        avg_score = np.mean(scores_deque)                                   # calculate the average of the last 100 score\n",
    "        all_avg_score.append(avg_score)                                     # collect all the averages\n",
    "        end_time = time.time() - start_time                                 # end time\n",
    "        total_time += end_time                                              # collect every time in episode\n",
    "\n",
    "\n",
    "        if i_episode % print_every == 0:                                    # every 100 episode check point\n",
    "            print('Episode {}, Total Average Score: {:.2f}, Max Score: {:.2f}, Total Time: {:.2f}second'.format(i_episode, avg_score, np.amax(scores_deque), total_time))\n",
    "            checkpoint(agents)\n",
    "\n",
    "        if avg_score > goal_score:                                          # end the episode check point\n",
    "            print(\"The Environment has been solved in {} Episode, with Average Score : {:.2f}\".format(i, avg_score))\n",
    "            checkpoint(agents)\n",
    "            break\n",
    "            \n",
    "    return all_scores, all_avg_score\n",
    "\n",
    "a_score, a_all_avg_score = maddpg()"
   ]
  },
  {
   "cell_type": "code",
   "execution_count": 13,
   "metadata": {},
   "outputs": [
    {
     "data": {
      "image/png": "[encoded data removed]",
      "text/plain": [
       "<Figure size 432x288 with 1 Axes>"
      ]
     },
     "metadata": {
      "needs_background": "light"
     },
     "output_type": "display_data"
    }
   ],
   "source": [
    "fig = plt.figure()\n",
    "ax = fig.add_subplot(111)\n",
    "plt.plot(np.arange(1, len(a_score)+1), a_score, label='Scores')\n",
    "plt.plot(np.arange(1, len(a_score)+1), a_all_avg_score, label='Total Average Scores')\n",
    "plt.title(\"MADDPG\")\n",
    "plt.ylabel('Score')\n",
    "plt.xlabel('Episode #')\n",
    "plt.axhline(y=0.5, color='r', linestyle='--', label='Score = 0.5')\n",
    "plt.legend(loc='best')\n",
    "plt.savefig('MADDPG.png')\n",
    "plt.savefig('MADDPG.pdf')\n",
    "plt.show()"
   ]
  },
  {
   "cell_type": "code",
   "execution_count": 14,
   "metadata": {},
   "outputs": [
    {
     "name": "stdout",
     "output_type": "stream",
     "text": [
      "Total score (averaged over agents) this episode: 2.600000038743019\n",
      "Total score (averaged over agents) this episode: 0.09500000160187483\n",
      "Total score (averaged over agents) this episode: 2.600000038743019\n",
      "Total score (averaged over agents) this episode: 2.600000038743019\n",
      "Total score (averaged over agents) this episode: 2.650000039488077\n"
     ]
    }
   ],
   "source": [
    "agents[0].actor_local.load_state_dict(torch.load('checkpoint_actor_local_0.pth', map_location='cpu'))\n",
    "agents[0].critic_local.load_state_dict(torch.load('checkpoint_critic_local_0.pth', map_location='cpu'))\n",
    "agents[1].actor_local.load_state_dict(torch.load('checkpoint_actor_local_1.pth', map_location='cpu'))\n",
    "agents[1].critic_local.load_state_dict(torch.load('checkpoint_critic_local_1.pth', map_location='cpu'))\n",
    "\n",
    "for i in range(5):                                         # play game for 5 episodes\n",
    "    env_info = env.reset(train_mode=False)[brain_name]     # reset the environment    \n",
    "    states = env_info.vector_observations                  # get the current state (for each agent)\n",
    "    scores = np.zeros(num_agents)                          # initialize the score (for each agent)\n",
    "    while True:\n",
    "        actions1 = agents[0].act(states, False)            # select actions from loaded model agent\n",
    "        actions2 = agents[1].act(states, False) \n",
    "        env_info = env.step(actions1,actions2)[brain_name] # send all actions to tne environment\n",
    "        next_states = env_info.vector_observations         # get next state (for each agent)\n",
    "        rewards = env_info.rewards                         # get reward (for each agent)\n",
    "        dones = env_info.local_done                        # see if episode finished\n",
    "        scores += env_info.rewards                         # update the score (for each agent)\n",
    "        states = next_states                               # roll over states to next time step\n",
    "        if np.any(dones):                                  # exit loop if episode finished\n",
    "            break\n",
    "    print('Total score (averaged over agents) this episode: {}'.format(np.mean(scores)))"
   ]
  },
  {
   "cell_type": "code",
   "execution_count": 15,
   "metadata": {},
   "outputs": [],
   "source": [
    "env.close()"
   ]
  },
  {
   "cell_type": "code",
   "execution_count": null,
   "metadata": {},
   "outputs": [],
   "source": []
  },
  {
   "cell_type": "code",
   "execution_count": null,
   "metadata": {},
   "outputs": [],
   "source": []
  }
 ],
 "metadata": {
  "kernelspec": {
   "display_name": "Python 3",
   "language": "python",
   "name": "python3"
  },
  "language_info": {
   "codemirror_mode": {
    "name": "ipython",
    "version": 3
   },
   "file_extension": ".py",
   "mimetype": "text/x-python",
   "name": "python",
   "nbconvert_exporter": "python",
   "pygments_lexer": "ipython3",
   "version": "3.6.13"
  }
 },
 "nbformat": 4,
 "nbformat_minor": 2
}
